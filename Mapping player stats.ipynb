{
 "cells": [
  {
   "cell_type": "code",
   "execution_count": 114,
   "metadata": {},
   "outputs": [
    {
     "name": "stderr",
     "output_type": "stream",
     "text": [
      "/home/gleb/.local/lib/python3.6/site-packages/ipykernel_launcher.py:11: SettingWithCopyWarning: \n",
      "A value is trying to be set on a copy of a slice from a DataFrame\n",
      "\n",
      "See the caveats in the documentation: http://pandas.pydata.org/pandas-docs/stable/user_guide/indexing.html#returning-a-view-versus-a-copy\n",
      "  # This is added back by InteractiveShellApp.init_path()\n",
      "/home/gleb/.local/lib/python3.6/site-packages/ipykernel_launcher.py:15: SettingWithCopyWarning: \n",
      "A value is trying to be set on a copy of a slice from a DataFrame\n",
      "\n",
      "See the caveats in the documentation: http://pandas.pydata.org/pandas-docs/stable/user_guide/indexing.html#returning-a-view-versus-a-copy\n",
      "  from ipykernel import kernelapp as app\n",
      "/home/gleb/.local/lib/python3.6/site-packages/ipykernel_launcher.py:19: SettingWithCopyWarning: \n",
      "A value is trying to be set on a copy of a slice from a DataFrame\n",
      "\n",
      "See the caveats in the documentation: http://pandas.pydata.org/pandas-docs/stable/user_guide/indexing.html#returning-a-view-versus-a-copy\n"
     ]
    }
   ],
   "source": [
    "import pandas as pd\n",
    "import pprint\n",
    "\n",
    "advanced = pd.read_csv('Advanced_all.csv')\n",
    "fnl_passing = pd.read_csv('FNL_passing.csv')\n",
    "player_map = pd.read_csv('_select_pm_player_id_pm_player_n.csv')\n",
    "mapping = pd.read_excel('Mapping.xlsx')\n",
    "\n",
    "for i, v in fnl_passing.iterrows():\n",
    "    tmp = fnl_passing['Unnamed: 0'][i].find('.')\n",
    "    fnl_passing['Unnamed: 0'][i] = fnl_passing['Unnamed: 0'][i][tmp + 2:]\n",
    "\n",
    "advanced['key'] = 'kek'\n",
    "for index1, row1 in advanced.iterrows():\n",
    "    advanced['key'][index1] = str(advanced['Player'][index1]) + '_' + str(advanced['Age'][index1])\n",
    "    \n",
    "player_map['key'] = 'kek'\n",
    "for index2, row2 in player_map.iterrows():\n",
    "    player_map['key'][index2] = str(player_map['player_name_origin'][index2]) + '_' + str(player_map['birth'][index2])"
   ]
  },
  {
   "cell_type": "code",
   "execution_count": 116,
   "metadata": {},
   "outputs": [
    {
     "data": {
      "text/html": [
       "<div>\n",
       "<style scoped>\n",
       "    .dataframe tbody tr th:only-of-type {\n",
       "        vertical-align: middle;\n",
       "    }\n",
       "\n",
       "    .dataframe tbody tr th {\n",
       "        vertical-align: top;\n",
       "    }\n",
       "\n",
       "    .dataframe thead th {\n",
       "        text-align: right;\n",
       "    }\n",
       "</style>\n",
       "<table border=\"1\" class=\"dataframe\">\n",
       "  <thead>\n",
       "    <tr style=\"text-align: right;\">\n",
       "      <th></th>\n",
       "      <th>In DATABASE</th>\n",
       "      <th>In MAPPING</th>\n",
       "    </tr>\n",
       "  </thead>\n",
       "  <tbody>\n",
       "    <tr>\n",
       "      <th>0</th>\n",
       "      <td>aerial_duels_per_90</td>\n",
       "      <td>Aerial duels per 90</td>\n",
       "    </tr>\n",
       "    <tr>\n",
       "      <th>1</th>\n",
       "      <td>aerial_duels_won</td>\n",
       "      <td>Aerial duels won %</td>\n",
       "    </tr>\n",
       "    <tr>\n",
       "      <th>2</th>\n",
       "      <td>assists</td>\n",
       "      <td>Assists</td>\n",
       "    </tr>\n",
       "  </tbody>\n",
       "</table>\n",
       "</div>"
      ],
      "text/plain": [
       "           In DATABASE           In MAPPING\n",
       "0  aerial_duels_per_90  Aerial duels per 90\n",
       "1     aerial_duels_won   Aerial duels won %\n",
       "2              assists              Assists"
      ]
     },
     "execution_count": 116,
     "metadata": {},
     "output_type": "execute_result"
    }
   ],
   "source": [
    "mapping.head(3)"
   ]
  },
  {
   "cell_type": "code",
   "execution_count": 144,
   "metadata": {},
   "outputs": [],
   "source": [
    "df = advanced.merge(fnl_passing, how = 'inner', left_on = 'Player', right_on = 'Unnamed: 0')\n",
    "\n",
    "\n",
    "df_ = df.merge(player_map, how = 'inner', on = 'key')\n",
    "\n",
    "\n",
    "include_from_scope = [\n",
    "'Age',\n",
    "'birth',\n",
    "'Birth country',\n",
    "'Contract expires',\n",
    "'Foot',\n",
    "'Goals total.1',\n",
    "'Height',\n",
    "'key',\n",
    "'Market value',\n",
    "'Matches played',\n",
    "'Minutes played',\n",
    "'On loan',\n",
    "'Passport country',\n",
    "'Player',\n",
    "'player_name_origin',\n",
    "'Position',\n",
    "'Team',\n",
    "'Unnamed: 0',\n",
    "'Weight']\n",
    "\n",
    "player_stats = pd.DataFrame()\n",
    "\n",
    "\n",
    "\n",
    "for i in list(df_):\n",
    "    if i not in include_from_scope:\n",
    "        player_stats[i] = df_[i]\n",
    "        \n",
    "player_stats['analyze_id'] = 2\n",
    "for ind, col in mapping.iterrows():\n",
    "    for i in player_stats.columns:\n",
    "        if i == mapping['In MAPPING'][ind]:\n",
    "            #print(mapping['In DATABASE'][ind])\n",
    "            player_stats.rename(columns = {i:mapping['In DATABASE'][ind]}, inplace = True)\n",
    "                                  \n",
    "player_stats.to_csv('/home/gleb/Desktop/mapping playerstats/player_stats.csv')"
   ]
  }
 ],
 "metadata": {
  "kernelspec": {
   "display_name": "Python 3",
   "language": "python",
   "name": "python3"
  },
  "language_info": {
   "codemirror_mode": {
    "name": "ipython",
    "version": 3
   },
   "file_extension": ".py",
   "mimetype": "text/x-python",
   "name": "python",
   "nbconvert_exporter": "python",
   "pygments_lexer": "ipython3",
   "version": "3.6.9"
  }
 },
 "nbformat": 4,
 "nbformat_minor": 2
}
